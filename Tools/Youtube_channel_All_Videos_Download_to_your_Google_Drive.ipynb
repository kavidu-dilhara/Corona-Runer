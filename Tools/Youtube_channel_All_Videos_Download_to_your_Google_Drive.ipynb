{
  "nbformat": 4,
  "nbformat_minor": 0,
  "metadata": {
    "colab": {
      "provenance": [],
      "include_colab_link": true
    },
    "kernelspec": {
      "name": "python3",
      "display_name": "Python 3"
    }
  },
  "cells": [
    {
      "cell_type": "markdown",
      "metadata": {
        "id": "view-in-github",
        "colab_type": "text"
      },
      "source": [
        "<a href=\"https://colab.research.google.com/github/kavidu-dilhara/Corona-Runer/blob/main/Tools/Youtube_channel_All_Videos_Download_to_your_Google_Drive.ipynb\" target=\"_parent\"><img src=\"https://colab.research.google.com/assets/colab-badge.svg\" alt=\"Open In Colab\"/></a>"
      ]
    },
    {
      "cell_type": "markdown",
      "metadata": {
        "id": "dowTxHjauR7X"
      },
      "source": [
        "# This notebook allows for downloading all videos on a Youtube channel to your Google Drive\n",
        "You need to have Youtube API key before using this. This notebook use youtube-dl library for downloading the videos."
      ]
    },
    {
      "cell_type": "code",
      "metadata": {
        "id": "1Z-zR1vagZyQ",
        "cellView": "form"
      },
      "source": [
        "\n",
        "#@markdown ### Mount Google Drive<br><h5>To stream files we need to mount Google Drive.\n",
        "import os\n",
        "from google.colab import drive\n",
        "drive.mount('/content/gdrive')"
      ],
      "execution_count": null,
      "outputs": []
    },
    {
      "cell_type": "code",
      "metadata": {
        "id": "M7ryoWIff1Th",
        "cellView": "form"
      },
      "source": [
        "#@markdown #Install the required library\n",
        "!pip install youtube_dl"
      ],
      "execution_count": null,
      "outputs": []
    },
    {
      "cell_type": "markdown",
      "metadata": {
        "id": "h700Tq8FkMZg"
      },
      "source": [
        "# Get all video links from the channel\n",
        "Change `api_key` to your own Youtube API key, and `channel_id` to the ID of the channel you wish to download"
      ]
    },
    {
      "cell_type": "code",
      "metadata": {
        "id": "LF73P_cpkaEa"
      },
      "source": [
        "import json\n",
        "from urllib.request import urlopen\n",
        "\n",
        "api_key = ''\n",
        "channel_id = \"\"\n",
        "\n",
        "def get_all_video_in_channel():\n",
        "    base_video_url = 'https://www.youtube.com/watch?v='\n",
        "    base_search_url = 'https://www.googleapis.com/youtube/v3/search?'\n",
        "\n",
        "    first_url = base_search_url + 'key={}&channelId={}&part=snippet,id&order=date&maxResults=25'.format(api_key, channel_id)\n",
        "    video_links = []\n",
        "    url = first_url\n",
        "    while True:\n",
        "        inp = urlopen(url)\n",
        "        resp = json.load(inp)\n",
        "\n",
        "        for i in resp['items']:\n",
        "            channel_name = resp['items']\n",
        "            if i['id']['kind'] == \"youtube#video\":\n",
        "                video_links.append(base_video_url + i['id']['videoId'])\n",
        "        try:\n",
        "            next_page_token = resp['nextPageToken']\n",
        "            url = first_url + '&pageToken={}'.format(next_page_token)\n",
        "        except:\n",
        "            break\n",
        "    return video_links\n",
        "\n",
        "\n",
        "links = get_all_video_in_channel()\n",
        "for link in links:\n",
        "  print(link)\n",
        "channel_api = \"https://www.googleapis.com/youtube/v3/channels?part=snippet&id={}&key={}\".format(channel_id, api_key)\n",
        "cname = urlopen(channel_api)\n",
        "respon = json.load(cname)\n",
        "channel_name = respon[\"items\"][0][\"snippet\"][\"title\"]\n",
        "print(\"Channel name: \" + channel_name)\n",
        "print(\"Total videos found: \" + str(len(links)))"
      ],
      "execution_count": null,
      "outputs": []
    },
    {
      "cell_type": "code",
      "metadata": {
        "id": "zzGortxS8h08",
        "cellView": "form"
      },
      "source": [
        "#@markdown # Change the working directory <h5>This will change the working directory to the Google drive folder, by default this will make new folder called \"Youtube Downloads\" and place the downloaded videos here. You can change it to whatever you want.\n",
        "\n",
        "os.chdir('gdrive/MyDrive') \n",
        "!mkdir -p \"Youtube Downloads\"\n",
        "os.chdir(\"Youtube Downloads\")\n",
        "print(\"Current directory: \" + os.getcwd())"
      ],
      "execution_count": null,
      "outputs": []
    },
    {
      "cell_type": "code",
      "metadata": {
        "id": "dEKD-kx4sS_O",
        "cellView": "form"
      },
      "source": [
        "#@markdown # Download the videos using youtube-dl\n",
        "from __future__ import unicode_literals\n",
        "import youtube_dl\n",
        "\n",
        "ydl_opts = {}\n",
        "with youtube_dl.YoutubeDL(ydl_opts) as ydl:\n",
        "    ydl.download(links)"
      ],
      "execution_count": null,
      "outputs": []
    }
  ]
}